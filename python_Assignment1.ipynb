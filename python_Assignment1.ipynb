{
 "cells": [
  {
   "cell_type": "markdown",
   "id": "39a191ac",
   "metadata": {},
   "source": [
    "# PYTHON PRACTICE PROBLEM DAY 2"
   ]
  },
  {
   "cell_type": "markdown",
   "id": "6f859486",
   "metadata": {},
   "source": [
    "1.Write a Python Program to accept the details of a student like name, roll number and mark and display it."
   ]
  },
  {
   "cell_type": "code",
   "execution_count": 1,
   "id": "b9be4070",
   "metadata": {},
   "outputs": [
    {
     "name": "stdout",
     "output_type": "stream",
     "text": [
      "Enter the name: Anisha\n",
      "Enter the Roll number: 21\n",
      "Enter the mark :78\n"
     ]
    }
   ],
   "source": [
    "name= input(\"Enter the name: \")\n",
    "roll_no=int(input(\"Enter the Roll number: \"))\n",
    "mark=int(input(\"Enter the mark :\"))\n"
   ]
  },
  {
   "cell_type": "code",
   "execution_count": 2,
   "id": "de34854a",
   "metadata": {},
   "outputs": [
    {
     "name": "stdout",
     "output_type": "stream",
     "text": [
      "Name :  Anisha\n",
      "Roll No :  21\n",
      "Mark :  78\n"
     ]
    }
   ],
   "source": [
    "print(\"Name : \",name)\n",
    "print(\"Roll No : \",roll_no)\n",
    "print(\"Mark : \",mark)"
   ]
  },
  {
   "cell_type": "markdown",
   "id": "92e398d5",
   "metadata": {},
   "source": [
    "2.Write a Python program to convert temperatures to and from Celsius Fahrenheit. [Formula: c/5=f-32/9 where c=temperature in Celsius and f= temperature in Fahrenheit.]"
   ]
  },
  {
   "cell_type": "code",
   "execution_count": 25,
   "id": "30e01fca",
   "metadata": {},
   "outputs": [
    {
     "name": "stdout",
     "output_type": "stream",
     "text": [
      "Enter the temperature in Fahrenheit : 41\n",
      "Enter the temperature in Celsius : 5\n"
     ]
    }
   ],
   "source": [
    "tempf=int(input(\"Enter the temperature in Fahrenheit : \"))\n",
    "c=int(input(\"Enter the temperature in Celsius : \"))"
   ]
  },
  {
   "cell_type": "code",
   "execution_count": 27,
   "id": "180a4db0",
   "metadata": {},
   "outputs": [
    {
     "name": "stdout",
     "output_type": "stream",
     "text": [
      "Temperature in Celsius :  5.0\n",
      "Temperature in Fahrenheit :  41.0\n"
     ]
    }
   ],
   "source": [
    "tempc=((tempf-32)/9)*5\n",
    "f=((9/5)*c)+32\n",
    "print(\"Temperature in Celsius : \",tempc)\n",
    "print(\"Temperature in Fahrenheit : \",f)"
   ]
  },
  {
   "cell_type": "markdown",
   "id": "687831b9",
   "metadata": {},
   "source": [
    "3.Write a Python program to accept two numbers from the user and display\n",
    "its product."
   ]
  },
  {
   "cell_type": "code",
   "execution_count": 5,
   "id": "77698749",
   "metadata": {},
   "outputs": [
    {
     "name": "stdout",
     "output_type": "stream",
     "text": [
      "Enter the first number : 4\n",
      "Enter the secound Number : 45\n"
     ]
    }
   ],
   "source": [
    "a=int(input(\"Enter the first number : \"))\n",
    "b=int(input(\"Enter the secound Number : \"))"
   ]
  },
  {
   "cell_type": "code",
   "execution_count": 6,
   "id": "905558b4",
   "metadata": {},
   "outputs": [
    {
     "name": "stdout",
     "output_type": "stream",
     "text": [
      "Product of  4 and  45  :  180\n"
     ]
    }
   ],
   "source": [
    "product=a*b\n",
    "print(\"Product of \",a, \"and \",b,\" : \",product)"
   ]
  },
  {
   "cell_type": "markdown",
   "id": "cc5b20ab",
   "metadata": {},
   "source": [
    "4.Write a Python program to accept a string “Learn Python by Developing a Website” and display the string like “Learn**Python** by Developing a **Website**”"
   ]
  },
  {
   "cell_type": "code",
   "execution_count": 28,
   "id": "093a7cc8",
   "metadata": {},
   "outputs": [
    {
     "name": "stdout",
     "output_type": "stream",
     "text": [
      "Learn Python by Developing a Website\n"
     ]
    }
   ],
   "source": [
    "string= \"Learn Python by Developing a Website\"\n",
    "print(string)"
   ]
  },
  {
   "cell_type": "code",
   "execution_count": 29,
   "id": "e141f124",
   "metadata": {},
   "outputs": [
    {
     "name": "stdout",
     "output_type": "stream",
     "text": [
      "Learn **Python** by Developing a **Website**\n"
     ]
    }
   ],
   "source": [
    "new_string = string.replace(\"Python\", \"**Python**\").replace(\"Website\", \"**Website**\")\n",
    "print(new_string)"
   ]
  },
  {
   "cell_type": "markdown",
   "id": "8e2be160",
   "metadata": {},
   "source": [
    "5.Write a Python program to accept the radius of a circle and display its area."
   ]
  },
  {
   "cell_type": "code",
   "execution_count": 8,
   "id": "cf8806f0",
   "metadata": {},
   "outputs": [
    {
     "name": "stdout",
     "output_type": "stream",
     "text": [
      "Enter the radius of the circle8\n",
      "The Area of the circle is  201.06192982974676\n"
     ]
    }
   ],
   "source": [
    "import math\n",
    "r=float(input(\"Enter the radius of the circle\"))\n",
    "area=math.pi*r**2\n",
    "print(\"The Area of the circle is \", area)"
   ]
  },
  {
   "cell_type": "markdown",
   "id": "4b3f2ada",
   "metadata": {},
   "source": [
    "6.Python program to insert a number to any position in a list (Get the number to be inserted and position from the user)"
   ]
  },
  {
   "cell_type": "code",
   "execution_count": 9,
   "id": "91689e9c",
   "metadata": {},
   "outputs": [
    {
     "name": "stdout",
     "output_type": "stream",
     "text": [
      "Enter the number to be inserted: 7\n",
      "Enter the position to insert the number: 6\n",
      "[1, 2, 3, 4, 5, 7]\n"
     ]
    }
   ],
   "source": [
    "numbers = [1, 2, 3, 4, 5]\n",
    "number = int(input(\"Enter the number to be inserted: \"))\n",
    "position = int(input(\"Enter the position to insert the number: \"))\n",
    "numbers.insert(position-1, number)\n",
    "print(numbers)"
   ]
  },
  {
   "cell_type": "markdown",
   "id": "31270a1a",
   "metadata": {},
   "source": [
    "7.Write a program to rename a key city to a location in the following dictionary.\n",
    "sample_dict = { \"name\": \"John\", \"age\":5, \"salary\": 8000, \"city\": \"New York\"}"
   ]
  },
  {
   "cell_type": "code",
   "execution_count": 10,
   "id": "c8b532e9",
   "metadata": {},
   "outputs": [
    {
     "name": "stdout",
     "output_type": "stream",
     "text": [
      "Enter the new name for the city: location\n",
      "{'name': 'John', 'age': 5, 'salary': 8000, 'city': 'location'}\n"
     ]
    }
   ],
   "source": [
    "sample_dict = { \"name\": \"John\", \"age\":5, \"salary\": 8000, \"city\": \"New York\"}\n",
    "new_name = input(\"Enter the new name for the city: \")\n",
    "sample_dict[\"city\"] = new_name\n",
    "\n",
    "print(sample_dict)"
   ]
  },
  {
   "cell_type": "code",
   "execution_count": 11,
   "id": "846777fb",
   "metadata": {},
   "outputs": [],
   "source": [
    "#keys in a dictionary cannot be changed once created"
   ]
  },
  {
   "cell_type": "markdown",
   "id": "316967fa",
   "metadata": {},
   "source": [
    "8.Write a Python program to change Brad’s salary to 8500 in the following dictionary.\n",
    "sample_dict = {\n",
    "'emp1': {'name': 'John', 'salary': 7500},\n",
    "'emp2': {'name': 'Emma', 'salary': 8000},\n",
    "'emp3': {'name': 'Brad', 'salary': 500}\n",
    "}"
   ]
  },
  {
   "cell_type": "code",
   "execution_count": 12,
   "id": "85a6b86c",
   "metadata": {},
   "outputs": [
    {
     "name": "stdout",
     "output_type": "stream",
     "text": [
      "{'emp1': {'name': 'John', 'salary': 7500}, 'emp2': {'name': 'Emma', 'salary': 8000}, 'emp3': {'name': 'Brad', 'salary': 8500}}\n"
     ]
    }
   ],
   "source": [
    "sample_dict = { \n",
    "    'emp1': {'name': 'John', 'salary': 7500},\n",
    "    'emp2': {'name': 'Emma', 'salary': 8000},\n",
    "    'emp3': {'name': 'Brad', 'salary': 500}\n",
    "                }\n",
    "sample_dict['emp3']['salary']=8500\n",
    "print(sample_dict)\n"
   ]
  },
  {
   "cell_type": "markdown",
   "id": "9cdabd32",
   "metadata": {},
   "source": [
    "9.Write a program to copy elements 43 and 54 from the following tuple into a\n",
    "new tuple. Given:\n",
    "tuple1 = (10, 20, 43, 54, 56, 68)"
   ]
  },
  {
   "cell_type": "code",
   "execution_count": 15,
   "id": "72e488dc",
   "metadata": {},
   "outputs": [
    {
     "name": "stdout",
     "output_type": "stream",
     "text": [
      "(43, 54)\n"
     ]
    }
   ],
   "source": [
    "tuple1=(10,20,43,54,56,68)\n",
    "new_tuple=(tuple1[2],tuple1[3])\n",
    "print(new_tuple)"
   ]
  },
  {
   "cell_type": "markdown",
   "id": "696b7de1",
   "metadata": {},
   "source": [
    "10.Counts the number of occurrences of item 50 from a tuple\n",
    "tuple1 = (50, 10, 60, 70, 50,83,567,50,81)"
   ]
  },
  {
   "cell_type": "code",
   "execution_count": 16,
   "id": "a4088f56",
   "metadata": {},
   "outputs": [
    {
     "name": "stdout",
     "output_type": "stream",
     "text": [
      "The number of occurrences of 50 is: 3\n"
     ]
    }
   ],
   "source": [
    "tuple1 = (50, 10, 60, 70, 50, 83, 567, 50, 81)\n",
    "count = tuple1.count(50)\n",
    "print(\"The number of occurrences of 50 is:\", count)"
   ]
  },
  {
   "cell_type": "code",
   "execution_count": null,
   "id": "a5c73216",
   "metadata": {},
   "outputs": [],
   "source": []
  }
 ],
 "metadata": {
  "kernelspec": {
   "display_name": "Python 3 (ipykernel)",
   "language": "python",
   "name": "python3"
  },
  "language_info": {
   "codemirror_mode": {
    "name": "ipython",
    "version": 3
   },
   "file_extension": ".py",
   "mimetype": "text/x-python",
   "name": "python",
   "nbconvert_exporter": "python",
   "pygments_lexer": "ipython3",
   "version": "3.9.12"
  }
 },
 "nbformat": 4,
 "nbformat_minor": 5
}
