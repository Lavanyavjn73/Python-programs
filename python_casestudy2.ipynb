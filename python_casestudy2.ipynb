{
 "cells": [
  {
   "cell_type": "markdown",
   "id": "0de1e09f",
   "metadata": {},
   "source": [
    "# CASE STUDY 2"
   ]
  },
  {
   "cell_type": "raw",
   "id": "d43f7bd6",
   "metadata": {},
   "source": [
    "1. Write a Python function to sum all the numbers in a list. (Create a list and get list elements from user)\n"
   ]
  },
  {
   "cell_type": "code",
   "execution_count": 1,
   "id": "a31d08a1",
   "metadata": {},
   "outputs": [
    {
     "name": "stdout",
     "output_type": "stream",
     "text": [
      "enter the numbers to be added seperated by comma1,6,7,8,9\n",
      "The sum of given numbers is: 31\n"
     ]
    }
   ],
   "source": [
    "def sum_list(numbers):\n",
    "    sum=0\n",
    "    for i in numbers:\n",
    "        sum=sum+i\n",
    "    return sum\n",
    "\n",
    "l1=list(map(int,input(\"enter the numbers to be added seperated by comma:\").split(\",\")))\n",
    "total=sum_list(l1)\n",
    "print(\"The sum of given numbers is:\",total)\n",
    "        "
   ]
  },
  {
   "cell_type": "raw",
   "id": "f6fd8ea1",
   "metadata": {},
   "source": [
    "2. Write a Python function that checks whether a passed string is palindrome or not.\n"
   ]
  },
  {
   "cell_type": "code",
   "execution_count": 5,
   "id": "e03b3987",
   "metadata": {},
   "outputs": [
    {
     "name": "stdout",
     "output_type": "stream",
     "text": [
      "Enter the string to be checked:english\n",
      "The string is not pallindrom\n"
     ]
    }
   ],
   "source": [
    "def palli_func(string):\n",
    "    string = string.lower().replace(\" \", \"\")\n",
    "    return string == string[::-1]\n",
    "string1=input(\"Enter the string to be checked:\")\n",
    "if palli_func(string1)== True:\n",
    "    print(\"the string is pallindrome\")\n",
    "else:\n",
    "    print(\"The string is not pallindrom\")\n",
    "        \n",
    "        \n",
    "    "
   ]
  },
  {
   "cell_type": "raw",
   "id": "9f9fb166",
   "metadata": {},
   "source": [
    "3. Write a Python recursive function to find the Fibonacci series. Get the limit \n",
    "from the user"
   ]
  },
  {
   "cell_type": "code",
   "execution_count": 7,
   "id": "c9852653",
   "metadata": {},
   "outputs": [
    {
     "name": "stdout",
     "output_type": "stream",
     "text": [
      "Enter the limit for the Fibonacci series: 7\n",
      "The Fibonacci series up to 7 is: [0, 1, 1, 2, 3, 5, 8]\n"
     ]
    }
   ],
   "source": [
    "def fibonacci(limit):\n",
    "    if limit <= 0:\n",
    "        return []\n",
    "    elif limit == 1:\n",
    "        return [0]\n",
    "    elif limit == 2:\n",
    "        return [0, 1]\n",
    "\n",
    "    fib_series = fibonacci(limit-1)\n",
    "    fib_series.append(fib_series[-1] + fib_series[-2])\n",
    "    \n",
    "    return fib_series\n",
    "\n",
    "\n",
    "limit = int(input(\"Enter the limit for the Fibonacci series: \"))\n",
    "\n",
    "fib_series = fibonacci(limit)\n",
    "\n",
    "print(\"The Fibonacci series up to\", limit, \"is:\", fib_series)\n",
    "\n",
    "\n"
   ]
  },
  {
   "cell_type": "raw",
   "id": "852739c9",
   "metadata": {},
   "source": [
    "4. Write a Python recursive function to print the multiplication table of given number"
   ]
  },
  {
   "cell_type": "code",
   "execution_count": 10,
   "id": "0ccbdda9",
   "metadata": {},
   "outputs": [
    {
     "name": "stdout",
     "output_type": "stream",
     "text": [
      "Enter the limit upto which multiplication table is to be printed:9\n",
      "The multiplication table of 9:\n",
      " \n",
      "9 x 1 = 9\n",
      "9 x 2 = 18\n",
      "9 x 3 = 27\n",
      "9 x 4 = 36\n",
      "9 x 5 = 45\n",
      "9 x 6 = 54\n",
      "9 x 7 = 63\n",
      "9 x 8 = 72\n",
      "9 x 9 = 81\n",
      "9 x 10 = 90\n"
     ]
    }
   ],
   "source": [
    "def multiplication_table(num, n=1):\n",
    "    if n > 10:\n",
    "        return\n",
    "    \n",
    "    print(num, \"x\", n, \"=\", num*n)\n",
    "    multiplication_table(num, n+1)\n",
    "\n",
    "\n",
    "x=int(input(\"Enter the limit upto which multiplication table is to be printed:\"))\n",
    "print('The multiplication table of {}:\\n '.format(x))\n",
    "multiplication_table(x)\n",
    "\n"
   ]
  },
  {
   "cell_type": "raw",
   "id": "2e8952d9",
   "metadata": {},
   "source": [
    "5. Define a function which counts vowels and consonant in a word"
   ]
  },
  {
   "cell_type": "code",
   "execution_count": 12,
   "id": "3be34d3d",
   "metadata": {},
   "outputs": [
    {
     "name": "stdout",
     "output_type": "stream",
     "text": [
      "Enter the string to be checked:dhruv\n",
      "Number of vowels: 1\n",
      "Number of consonants: 4\n"
     ]
    }
   ],
   "source": [
    "def letter_count(word):\n",
    "    \n",
    "    vowels = {'a', 'e', 'i', 'o', 'u'}\n",
    "    \n",
    "    num_vowels = 0\n",
    "    num_consonants = 0\n",
    "\n",
    "    for letter in word:\n",
    "        if letter.lower() in vowels:\n",
    "            num_vowels += 1\n",
    "        else:\n",
    "            num_consonants += 1\n",
    "    return num_vowels, num_consonants\n",
    "\n",
    "\n",
    "\n",
    "string=input(\"Enter the string to be checked:\")\n",
    "num_vowels, num_consonants = letter_count(string)\n",
    "\n",
    "print(\"Number of vowels:\", num_vowels)\n",
    "print(\"Number of consonants:\", num_consonants)"
   ]
  },
  {
   "cell_type": "raw",
   "id": "5ed904e9",
   "metadata": {},
   "source": [
    "6.Define a function that accepts lowercase words and returns uppercase words."
   ]
  },
  {
   "cell_type": "code",
   "execution_count": 13,
   "id": "29e0cabf",
   "metadata": {},
   "outputs": [
    {
     "name": "stdout",
     "output_type": "stream",
     "text": [
      "Enter the word to be changed into upper case:devsankar\n",
      "The Uppercase word is: DEVSANKAR\n"
     ]
    }
   ],
   "source": [
    "def upper(string):\n",
    "    new_string=string.upper()\n",
    "    return new_string\n",
    "\n",
    "word=input(\"Enter the word to be changed into upper case:\")\n",
    "print(\"The Uppercase word is:\",upper(word))"
   ]
  },
  {
   "cell_type": "raw",
   "id": "6ca3de3f",
   "metadata": {},
   "source": [
    "7.Write a Python program to remove ‘None’ values from a given list using \n",
    "the lambda function.\n",
    "Given input = [12, 0, None, 23, None, -55, 234, 89, None, 0, 6, -12]\n",
    "Expected output = [12, 0, 23, -55, 234, 89, 0, 6, -12]"
   ]
  },
  {
   "cell_type": "code",
   "execution_count": 29,
   "id": "39aaa057",
   "metadata": {},
   "outputs": [
    {
     "name": "stdout",
     "output_type": "stream",
     "text": [
      "Original list:\n",
      "[12, 0, None, 23, None, -55, 234, 89, None, 0, 6, -12]\n",
      "\n",
      "Remove None value from the said list:\n",
      "[12, 0, 23, -55, 234, 89, 0, 6, -12]\n"
     ]
    }
   ],
   "source": [
    "def remove_none(nums):\n",
    "    result = filter(lambda x: x is not None, nums)\n",
    "    return list(result)\n",
    "\n",
    "nums = [12, 0, None, 23, None, -55, 234, 89, None, 0, 6, -12]\n",
    "print(\"Original list:\")\n",
    "print(nums)\n",
    "print(\"\\nRemove None value from the said list:\")\n",
    "print(remove_none(nums))"
   ]
  },
  {
   "cell_type": "raw",
   "id": "1fc7279d",
   "metadata": {},
   "source": [
    "8. Write a Rectangle class in Python language, allowing you to build a rectangle with length and width attributes.\n",
    "a. Create a Perimeter() method to calculate the perimeter of the rectangle and a Area() method to calculate the area of the rectangle.\n",
    "b. Create a method display() that display the length, width, perimeter and area of an object created using an instantiation on rectangle class.\n",
    "c. Create a Parallelepiped child class inheriting from the Rectangle class and with a height attribute and another Volume() method to calculate the volume of the Parallelepiped"
   ]
  },
  {
   "cell_type": "code",
   "execution_count": 31,
   "id": "e5e3b541",
   "metadata": {},
   "outputs": [
    {
     "name": "stdout",
     "output_type": "stream",
     "text": [
      "Enter the length and breadth of rectangle:5,9\n",
      "Length:  5\n",
      "Width:  9\n",
      "Perimeter:  28\n",
      "Area:  45\n"
     ]
    }
   ],
   "source": [
    "class Rectangle:\n",
    "    def __init__(self, length, width):\n",
    "        self.length = length\n",
    "        self.width = width\n",
    "        \n",
    "    def Perimeter(self):\n",
    "        return 2*(self.length + self.width)\n",
    "    \n",
    "    def Area(self):\n",
    "        return self.length * self.width\n",
    "    \n",
    "    def display(self):\n",
    "        print(\"Length: \", self.length)\n",
    "        print(\"Width: \", self.width)\n",
    "        print(\"Perimeter: \", self.Perimeter())\n",
    "        print(\"Area: \", self.Area())\n",
    "        \n",
    "l,b=map(int,input(\"Enter the length and breadth of rectangle:\").split(\",\"))\n",
    "rect = Rectangle(l,b)\n",
    "rect.display()"
   ]
  },
  {
   "cell_type": "code",
   "execution_count": 33,
   "id": "b976d979",
   "metadata": {},
   "outputs": [
    {
     "name": "stdout",
     "output_type": "stream",
     "text": [
      "Enter the length,breadth and height of paralellepiped:4,8,10\n",
      "Length:  4\n",
      "Width:  8\n",
      "Perimeter:  24\n",
      "Area:  32\n",
      "Volume:  320\n"
     ]
    }
   ],
   "source": [
    "class Parallelepiped(Rectangle):\n",
    "    def __init__(self, length, width, height):\n",
    "        super().__init__(length, width)\n",
    "        self.height = height\n",
    "    \n",
    "    def Volume(self):\n",
    "        return self.length * self.width * self.height\n",
    "l1,b1,h1=map(int,input(\"Enter the length,breadth and height of paralellepiped:\").split(\",\"))\n",
    "para = Parallelepiped(l1,b1,h1)\n",
    "para.display()\n",
    "print(\"Volume: \", para.Volume())"
   ]
  },
  {
   "cell_type": "raw",
   "id": "47e21988",
   "metadata": {},
   "source": [
    "9. Create a Python class called BankAccount which represents a bank account, having as attributes: accountNumber (numeric type), name \n",
    "(name of the account owner as string type), balance.\n",
    "a. Create a constructor with parameters: accountNumber, name, balance.\n",
    "b. Create a Deposit() method which manages the deposit actions.\n",
    "c. Create a Withdrawal() method which manages withdrawals actions.\n",
    "d. Create an bankFees() method to apply the bank fees with a percentage of 5% of the balance account.\n",
    "e. Create a display() method to display account details.\n",
    "f. Give the complete code for the BankAccount class."
   ]
  },
  {
   "cell_type": "code",
   "execution_count": 34,
   "id": "4d1592b6",
   "metadata": {},
   "outputs": [
    {
     "name": "stdout",
     "output_type": "stream",
     "text": [
      "Account Number:  110023456\n",
      "Account Holder Name:  Sankarankutyy\n",
      "Account Balance:  10000\n",
      "Deposit successful. New balance is 60000\n",
      "Withdrawal successful. New balance is 35000\n",
      "Bank fees of 5% applied. New balance is 33250.0\n",
      "Account Number:  110023456\n",
      "Account Holder Name:  Sankarankutyy\n",
      "Account Balance:  33250.0\n"
     ]
    }
   ],
   "source": [
    "class BankAccount:\n",
    "    def __init__(self, accountNumber, name, balance):\n",
    "        self.accountNumber = accountNumber\n",
    "        self.name = name\n",
    "        self.balance = balance\n",
    "    \n",
    "    def Deposit(self, amount):\n",
    "        self.balance += amount\n",
    "        print(\"Deposit successful. New balance is\", self.balance)\n",
    "        \n",
    "    def Withdrawal(self, amount):\n",
    "        if amount <= self.balance:\n",
    "            self.balance -= amount\n",
    "            print(\"Withdrawal successful. New balance is\", self.balance)\n",
    "        else:\n",
    "            print(\"Insufficient balance. Withdrawal failed.\")\n",
    "            \n",
    "    def bankFees(self):\n",
    "        fees = 0.05 * self.balance\n",
    "        self.balance -= fees\n",
    "        print(\"Bank fees of 5% applied. New balance is\", self.balance)\n",
    "    \n",
    "    def display(self):\n",
    "        print(\"Account Number: \", self.accountNumber)\n",
    "        print(\"Account Holder Name: \", self.name)\n",
    "        print(\"Account Balance: \", self.balance)\n",
    "\n",
    "# Create an instance of the BankAccount class\n",
    "acct = BankAccount(110023456, \"Sankarankutyy\", 10000)\n",
    "\n",
    "acct.display()\n",
    "acct.Deposit(50000)\n",
    "acct.Withdrawal(25000)\n",
    "\n",
    "# Apply bank fees\n",
    "acct.bankFees()\n",
    "\n",
    "# Display the account details again\n",
    "acct.display()"
   ]
  },
  {
   "cell_type": "raw",
   "id": "978b85b3",
   "metadata": {},
   "source": [
    "10. Create a base class rectangle with attributes length and breadth, methods area and perimeter. \n",
    "a. Save the rectangle class as a python file rectangle.py file. \n",
    "b. Open another python script and import the rectangle.py file. \n",
    "c. In the newly created script derive a child class called Parallelepiped class inheriting from the Rectangle class and with a height attribute \n",
    "and another Volume() method to calculate the volume of the Parallelepiped. \n",
    "d. Now create objects for parent class and child class in newly created \n",
    "script and access methods of parent class and child class."
   ]
  },
  {
   "cell_type": "code",
   "execution_count": 1,
   "id": "ea882141",
   "metadata": {},
   "outputs": [
    {
     "name": "stdout",
     "output_type": "stream",
     "text": [
      "Area of rectangle: 50\n",
      "Perimeter of rectangle: 30\n",
      "Area of parallelepiped: 50\n",
      "Perimeter of parallelepiped: 30\n",
      "Volume of parallelepiped: 150\n"
     ]
    }
   ],
   "source": [
    "from rectangle import Rectangle\n",
    "from parallelepiped import Parallelepiped\n",
    "\n",
    "# Create an instance of the Rectangle class\n",
    "rect = Rectangle(10, 5)\n",
    "\n",
    "# Call the area and perimeter methods of the Rectangle class\n",
    "print(\"Area of rectangle:\", rect.area())\n",
    "print(\"Perimeter of rectangle:\", rect.perimeter())\n",
    "\n",
    "# Create an instance of the Parallelepiped class\n",
    "para = Parallelepiped(10, 5, 3)\n",
    "\n",
    "# Call the area, perimeter, and Volume methods of the Parallelepiped class\n",
    "print(\"Area of parallelepiped:\", para.area())\n",
    "print(\"Perimeter of parallelepiped:\", para.perimeter())\n",
    "print(\"Volume of parallelepiped:\", para.Volume())"
   ]
  },
  {
   "cell_type": "code",
   "execution_count": null,
   "id": "94259c24",
   "metadata": {},
   "outputs": [],
   "source": []
  }
 ],
 "metadata": {
  "kernelspec": {
   "display_name": "Python 3 (ipykernel)",
   "language": "python",
   "name": "python3"
  },
  "language_info": {
   "codemirror_mode": {
    "name": "ipython",
    "version": 3
   },
   "file_extension": ".py",
   "mimetype": "text/x-python",
   "name": "python",
   "nbconvert_exporter": "python",
   "pygments_lexer": "ipython3",
   "version": "3.9.12"
  }
 },
 "nbformat": 4,
 "nbformat_minor": 5
}
