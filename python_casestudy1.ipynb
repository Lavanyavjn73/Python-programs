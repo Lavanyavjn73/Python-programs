{
 "cells": [
  {
   "cell_type": "markdown",
   "id": "d6778c01",
   "metadata": {},
   "source": [
    "# case study 1"
   ]
  },
  {
   "cell_type": "raw",
   "id": "2f12baf1",
   "metadata": {},
   "source": [
    "1. A school has following rules for grading system:\n",
    "a. Below 25 - F\n",
    "b. 25 to 45 - E\n",
    "c. 45 to 50 - D\n",
    "d. 50 to 60 - C\n",
    "e. 60 to 80 - B\n",
    "f. Above 80 - A\n",
    "Ask user to enter marks and print the corresponding grade."
   ]
  },
  {
   "cell_type": "code",
   "execution_count": 14,
   "id": "56a6a23b",
   "metadata": {},
   "outputs": [
    {
     "name": "stdout",
     "output_type": "stream",
     "text": [
      "Enter the marks separated by space:90 67 89 84 95\n",
      "grade is A\n",
      "grade is B\n",
      "grade is A\n",
      "grade is A\n",
      "grade is A\n"
     ]
    }
   ],
   "source": [
    "marks=list(map(float,input('Enter the marks separated by space:').split(' ')))\n",
    "for score in marks:\n",
    "    if score>80:\n",
    "        print('grade is A')\n",
    "    elif 80>=score>60:\n",
    "        print( 'grade is B')\n",
    "    elif 60>=score>50:\n",
    "        print( 'grade is c')\n",
    "    elif 50>=score>45:\n",
    "        print( 'grade is D')\n",
    "    elif 45>=score>25:\n",
    "        print( 'grade is E')\n",
    "    else:\n",
    "        print('grade is F')"
   ]
  },
  {
   "cell_type": "raw",
   "id": "49f3f42d",
   "metadata": {},
   "source": [
    "2. You have a list of names. Create a new list which contains only the names \n",
    "with non-repeating characters. \n",
    "Sample input = [‘John’,’Peter’,’Meera’,’Mini’,’Krishna’]\n",
    "Sample output = [‘John’,Krishna]\n",
    "\n"
   ]
  },
  {
   "cell_type": "code",
   "execution_count": 15,
   "id": "47f6e8ae",
   "metadata": {},
   "outputs": [
    {
     "name": "stdout",
     "output_type": "stream",
     "text": [
      "Enter the names separated by space:Sankarankutty Lavanya Dhruv Dev\n",
      "Names with non repeating characters are: ['Dhruv', 'Dev']\n"
     ]
    }
   ],
   "source": [
    "#names = ['John', 'Peter', 'Meera', 'Mini', 'Krishna']\n",
    "names=list(map(str,input('Enter the names separated by space:').split(' ')))\n",
    "non_repeating = []\n",
    "for name in names:\n",
    "    if len(name) == len(set(name)):\n",
    "        non_repeating.append(name)\n",
    "print('Names with non repeating characters are:',non_repeating)"
   ]
  },
  {
   "cell_type": "raw",
   "id": "0cebbf9d",
   "metadata": {},
   "source": [
    "3.Take values of length and breadth of a rectangle from user and check if it \n",
    "is square or not."
   ]
  },
  {
   "cell_type": "code",
   "execution_count": 16,
   "id": "69a94cfa",
   "metadata": {},
   "outputs": [
    {
     "name": "stdout",
     "output_type": "stream",
     "text": [
      "Enter the length and breadth of rectangle to be checked:4 5\n",
      "The given rectangle is not a square\n"
     ]
    }
   ],
   "source": [
    "length,breadth=map(float,input('Enter the length and breadth of rectangle to be checked:').split(' '))\n",
    "if length==breadth:\n",
    "    print('The given rectangle is a square')\n",
    "else:\n",
    "    print('The given rectangle is not a square')"
   ]
  },
  {
   "cell_type": "raw",
   "id": "149cc079",
   "metadata": {},
   "source": [
    "4. A student will not be allowed to sit in exam if his/her attendance is less than 75%. Take following input from user Number of classes held ,Number of classes attended. And print percentage of class attended Is student is allowed to sit in exam or not."
   ]
  },
  {
   "cell_type": "code",
   "execution_count": 17,
   "id": "8a18c04e",
   "metadata": {},
   "outputs": [
    {
     "name": "stdout",
     "output_type": "stream",
     "text": [
      "Enter the total number of classes taken and total number of classess attended separtaed by comma: 50,45\n",
      "The student is eligible to attend the exam\n"
     ]
    }
   ],
   "source": [
    "classes,attended=map(float,input('Enter the total number of classes taken and total number of classess attended separtaed by comma: ').split(\",\"))\n",
    "percent_atend=(attended/classes)*100\n",
    "if percent_atend>75:\n",
    "    print(\"The student is eligible to attend the exam\")\n",
    "else:\n",
    "    print('The student is not eligible to attend the exam')"
   ]
  },
  {
   "cell_type": "raw",
   "id": "fc50d29e",
   "metadata": {},
   "source": [
    "5. Create a list by taking length of the list and elements of the list from user. Then find the sum of the elements of the list. Also create a new called even list which contains only even numbers from first list and odd list which \n",
    "contains odd numbers from the list. \n",
    "Sample input:\n",
    "Length of the list = 5\n",
    "List1 = [2,6,3,1,5]\n",
    "Sum = 17\n",
    "Even_list=[2,6]\n",
    "Odd_list=[3,1,5]\n"
   ]
  },
  {
   "cell_type": "code",
   "execution_count": 18,
   "id": "ccc1b040",
   "metadata": {},
   "outputs": [
    {
     "name": "stdout",
     "output_type": "stream",
     "text": [
      "enter the length of list6\n",
      "Enter the elements of the list separated by comma:3,6,90,45,67,59\n",
      "The sum of elements of list is  270\n",
      "odd elements in the list is  [3, 45, 67, 59]\n",
      "The even elements in the list is  [6, 90]\n"
     ]
    }
   ],
   "source": [
    "length=int(input('enter the length of list'))\n",
    "list1=list(map(int,input('Enter the elements of the list separated by comma:').split(',')))\n",
    "odd_list=[]\n",
    "even_list=[]\n",
    "sum=0\n",
    "for num in list1:\n",
    "    sum=sum+num\n",
    "    if num%2==0:\n",
    "        even_list.append(num)\n",
    "    else:\n",
    "        odd_list.append(num)\n",
    "        \n",
    "print(\"The sum of elements of list is \",sum)\n",
    "print('odd elements in the list is ',odd_list)\n",
    "print('The even elements in the list is ',even_list)"
   ]
  },
  {
   "cell_type": "raw",
   "id": "2657271b",
   "metadata": {},
   "source": [
    "6. Create a sample chatbot for an ecommerce website"
   ]
  },
  {
   "cell_type": "code",
   "execution_count": null,
   "id": "f243643d",
   "metadata": {},
   "outputs": [],
   "source": [
    "print('Welcome to our site! How can i help you?!')\n",
    "while True:\n",
    "    user_input = input(\"You: \")\n",
    "    if user_input.lower() == \"show me the products\":\n",
    "        print(\"Our products include clothing, electronics, and home goods.\")\n",
    "    elif user_input.lower() == \"can you recommend a product\":\n",
    "        print(\"One of our most popular products is the Smartphone X, which has received great reviews for its camera and battery life.\")\n",
    "    elif user_input.lower() == \"what is the price of smartphone x\":\n",
    "        print(\"The price of the Smartphone X is $500.\")\n",
    "    elif user_input.lower() == \"Thank you for the information\":\n",
    "        print(\"Thank you for visiting our ecommerce website! Have a great day!\")\n",
    "        break\n",
    "    else:\n",
    "        print(\"I'm sorry, I didn't understand your request. Could you please rephrase?\")Tha"
   ]
  },
  {
   "cell_type": "raw",
   "id": "4b3b17d2",
   "metadata": {},
   "source": [
    "7. Write a program to find the roots of a quadratic equation. Get the co\u0002efficients of quadratic equation ax^2+bx+c and display whether the roots are real and equal or real and distinct or roots are imaginary. You have to \n",
    "find the roots and display it as well."
   ]
  },
  {
   "cell_type": "code",
   "execution_count": 20,
   "id": "9178f827",
   "metadata": {},
   "outputs": [
    {
     "name": "stdout",
     "output_type": "stream",
     "text": [
      "Quadratic function : (a * x^2) + b*x + c\n",
      "a: 1 \n",
      "b: -6\n",
      "c: 8\n",
      "There are 2 distinct real roots: 4.000000 and 2.000000\n"
     ]
    }
   ],
   "source": [
    "import math\n",
    "\n",
    "print(\"Quadratic function : (a * x^2) + b*x + c\")\n",
    "a = float(input(\"a: \"))\n",
    "b = float(input(\"b: \"))\n",
    "c = float(input(\"c: \"))\n",
    "\n",
    "r = b**2 - 4*a*c\n",
    "\n",
    "if r > 0:\n",
    "    num_roots = 2\n",
    "    x1 = (((-b) + math.sqrt(r))/(2*a))     \n",
    "    x2 = (((-b) - math.sqrt(r))/(2*a))\n",
    "    print(\"There are 2 distinct real roots: %f and %f\" % (x1, x2))\n",
    "elif r == 0:\n",
    "    num_roots = 1\n",
    "    \n",
    "    x = (-b) / 2*a\n",
    "    print(\"There is one root: \", x)\n",
    "else:\n",
    "    num_roots = 0\n",
    "    print(\"No real roots, complex roots. \")\n",
    "    exit()\n",
    "\n"
   ]
  },
  {
   "cell_type": "raw",
   "id": "a5efd316",
   "metadata": {},
   "source": [
    "8. Given a range of first 10 numbers, write a Python program to iterate from \n",
    "start number to the end number and print the sum of the current number \n",
    "and previous number. \n",
    "Sample input: 1….10 \n",
    "Sample output: Current Number 1 Previous Number 0 Sum: 1\n",
    "Current Number 2 Previous Number 1 Sum: 3 \n",
    "Current Number 3 Previous Number 2 Sum: 5… \n",
    "…….\n",
    "Current Number 10 Previous Number 9 Sum: 19\n"
   ]
  },
  {
   "cell_type": "code",
   "execution_count": 21,
   "id": "b69ba574",
   "metadata": {},
   "outputs": [
    {
     "name": "stdout",
     "output_type": "stream",
     "text": [
      "Enter the limit upto which calculation is to be performed10\n",
      "Current Number 1 Previous Number 0 Sum: 1\n",
      "Current Number 2 Previous Number 1 Sum: 3\n",
      "Current Number 3 Previous Number 2 Sum: 5\n",
      "Current Number 4 Previous Number 3 Sum: 7\n",
      "Current Number 5 Previous Number 4 Sum: 9\n",
      "Current Number 6 Previous Number 5 Sum: 11\n",
      "Current Number 7 Previous Number 6 Sum: 13\n",
      "Current Number 8 Previous Number 7 Sum: 15\n",
      "Current Number 9 Previous Number 8 Sum: 17\n",
      "Current Number 10 Previous Number 9 Sum: 19\n"
     ]
    }
   ],
   "source": [
    "n=int(input('Enter the limit upto which calculation is to be performed'))\n",
    "sum=0\n",
    "for i in range(1,n+1):\n",
    "    sum=i+(i-1)\n",
    "    print('Current Number {} Previous Number {} Sum: {}'.format(i,i-1,sum))\n",
    "    "
   ]
  },
  {
   "cell_type": "raw",
   "id": "7bb9096e",
   "metadata": {},
   "source": [
    "9. Write a Python program to find the prime numbers in a given range. Get \n",
    "the range from user and print prime numbers in that range."
   ]
  },
  {
   "cell_type": "code",
   "execution_count": 22,
   "id": "d22d17e3",
   "metadata": {},
   "outputs": [
    {
     "name": "stdout",
     "output_type": "stream",
     "text": [
      "Enter the limit upto which prime numbers to be printed:15\n",
      "Prime numbers in the given range: [2, 3, 5, 7, 11, 13]\n"
     ]
    }
   ],
   "source": [
    "l=int(input('Enter the limit upto which prime numbers to be printed:'))\n",
    "prime_numbers = []\n",
    "\n",
    "for num in range(0, l+1):\n",
    "    if num < 2:\n",
    "        continue\n",
    "    is_prime = True\n",
    "    for i in range(2, num):\n",
    "        if num % i == 0:\n",
    "            is_prime = False\n",
    "            break\n",
    "    if is_prime:\n",
    "        prime_numbers.append(num)\n",
    "\n",
    "if prime_numbers:\n",
    "    print(\"Prime numbers in the given range:\", prime_numbers)\n",
    "else:\n",
    "    print(\"No prime numbers found in the given range.\")"
   ]
  },
  {
   "cell_type": "raw",
   "id": "a4705d65",
   "metadata": {},
   "source": [
    "10 Write a Python program to print Fibonacci series in a given range. Get the range from user and print fibonacci numbers in that range"
   ]
  },
  {
   "cell_type": "code",
   "execution_count": 24,
   "id": "ca869437",
   "metadata": {},
   "outputs": [
    {
     "name": "stdout",
     "output_type": "stream",
     "text": [
      "Enter the limit upto which prime numbers to be printed10\n",
      "0\n",
      "1\n",
      "1\n",
      "2\n",
      "3\n",
      "5\n",
      "8\n"
     ]
    }
   ],
   "source": [
    "l=int(input('Enter the limit upto which fibonacci numbers to be printed:'))\n",
    "n1,n2 = 0,1\n",
    "print(n1)\n",
    "while n2<=l:\n",
    "    print(n2)\n",
    "    n1,n2 = n2, n1+n2"
   ]
  },
  {
   "cell_type": "code",
   "execution_count": null,
   "id": "1a9f7cd8",
   "metadata": {},
   "outputs": [],
   "source": []
  }
 ],
 "metadata": {
  "kernelspec": {
   "display_name": "Python 3 (ipykernel)",
   "language": "python",
   "name": "python3"
  },
  "language_info": {
   "codemirror_mode": {
    "name": "ipython",
    "version": 3
   },
   "file_extension": ".py",
   "mimetype": "text/x-python",
   "name": "python",
   "nbconvert_exporter": "python",
   "pygments_lexer": "ipython3",
   "version": "3.9.12"
  }
 },
 "nbformat": 4,
 "nbformat_minor": 5
}
